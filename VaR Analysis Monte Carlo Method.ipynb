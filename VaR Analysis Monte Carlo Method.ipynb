{
 "cells": [
  {
   "cell_type": "markdown",
   "id": "895e943c-1375-44cb-bba2-b56853d0d98c",
   "metadata": {},
   "source": [
    "# VaR Analysis Monte Carlo Method"
   ]
  },
  {
   "cell_type": "markdown",
   "id": "4af41730-2a16-4ed2-bd5a-e2e7c7246008",
   "metadata": {},
   "source": [
    "This is a Value at Risk analysis Monte Carlo Method to determine the possible amount of money you could lose if you invest in the companies below"
   ]
  },
  {
   "cell_type": "markdown",
   "id": "cbd4da73-d289-4665-b65a-c326663e5b2b",
   "metadata": {},
   "source": [
    "## Importing necessary libraries"
   ]
  },
  {
   "cell_type": "code",
   "execution_count": 60,
   "id": "32b0fae5-2424-4ea5-aba2-33b630c58630",
   "metadata": {},
   "outputs": [],
   "source": [
    "import pandas as pd\n",
    "import numpy as np\n",
    "import datetime as dt\n",
    "import matplotlib.pyplot as plt\n",
    "from scipy.stats import norm\n",
    "import seaborn as sns"
   ]
  },
  {
   "cell_type": "markdown",
   "id": "7dee090f-272e-4330-a426-51335672afa8",
   "metadata": {},
   "source": [
    "## Importing our data"
   ]
  },
  {
   "cell_type": "code",
   "execution_count": 6,
   "id": "df7eeec0-7c5d-44cc-9b89-10541518cdb9",
   "metadata": {},
   "outputs": [
    {
     "data": {
      "text/html": [
       "<div>\n",
       "<style scoped>\n",
       "    .dataframe tbody tr th:only-of-type {\n",
       "        vertical-align: middle;\n",
       "    }\n",
       "\n",
       "    .dataframe tbody tr th {\n",
       "        vertical-align: top;\n",
       "    }\n",
       "\n",
       "    .dataframe thead th {\n",
       "        text-align: right;\n",
       "    }\n",
       "</style>\n",
       "<table border=\"1\" class=\"dataframe\">\n",
       "  <thead>\n",
       "    <tr style=\"text-align: right;\">\n",
       "      <th></th>\n",
       "      <th>BDO</th>\n",
       "      <th>EW</th>\n",
       "      <th>MBT</th>\n",
       "      <th>PNB</th>\n",
       "      <th>SECB</th>\n",
       "      <th>UBP</th>\n",
       "    </tr>\n",
       "    <tr>\n",
       "      <th>Date</th>\n",
       "      <th></th>\n",
       "      <th></th>\n",
       "      <th></th>\n",
       "      <th></th>\n",
       "      <th></th>\n",
       "      <th></th>\n",
       "    </tr>\n",
       "  </thead>\n",
       "  <tbody>\n",
       "    <tr>\n",
       "      <th>43742</th>\n",
       "      <td>143.5</td>\n",
       "      <td>11.82</td>\n",
       "      <td>68.0</td>\n",
       "      <td>43.50</td>\n",
       "      <td>197.9</td>\n",
       "      <td>59.05</td>\n",
       "    </tr>\n",
       "    <tr>\n",
       "      <th>43745</th>\n",
       "      <td>140.0</td>\n",
       "      <td>11.70</td>\n",
       "      <td>68.0</td>\n",
       "      <td>44.00</td>\n",
       "      <td>197.0</td>\n",
       "      <td>59.10</td>\n",
       "    </tr>\n",
       "    <tr>\n",
       "      <th>43746</th>\n",
       "      <td>143.0</td>\n",
       "      <td>11.72</td>\n",
       "      <td>67.3</td>\n",
       "      <td>43.05</td>\n",
       "      <td>194.6</td>\n",
       "      <td>59.05</td>\n",
       "    </tr>\n",
       "    <tr>\n",
       "      <th>43747</th>\n",
       "      <td>143.4</td>\n",
       "      <td>11.62</td>\n",
       "      <td>66.0</td>\n",
       "      <td>42.95</td>\n",
       "      <td>191.0</td>\n",
       "      <td>59.00</td>\n",
       "    </tr>\n",
       "    <tr>\n",
       "      <th>43748</th>\n",
       "      <td>145.0</td>\n",
       "      <td>11.78</td>\n",
       "      <td>67.8</td>\n",
       "      <td>43.50</td>\n",
       "      <td>199.0</td>\n",
       "      <td>59.00</td>\n",
       "    </tr>\n",
       "  </tbody>\n",
       "</table>\n",
       "</div>"
      ],
      "text/plain": [
       "         BDO     EW   MBT    PNB   SECB    UBP\n",
       "Date                                          \n",
       "43742  143.5  11.82  68.0  43.50  197.9  59.05\n",
       "43745  140.0  11.70  68.0  44.00  197.0  59.10\n",
       "43746  143.0  11.72  67.3  43.05  194.6  59.05\n",
       "43747  143.4  11.62  66.0  42.95  191.0  59.00\n",
       "43748  145.0  11.78  67.8  43.50  199.0  59.00"
      ]
     },
     "execution_count": 6,
     "metadata": {},
     "output_type": "execute_result"
    }
   ],
   "source": [
    "df = pd.read_excel('PH stocks.xlsx', index_col = False)\n",
    "df = df.set_index('Date')\n",
    "df = df.dropna()\n",
    "df.head()"
   ]
  },
  {
   "cell_type": "markdown",
   "id": "8a51d0a8-6e87-4631-b333-e3affee4304b",
   "metadata": {},
   "source": [
    "## Calculating log returns"
   ]
  },
  {
   "cell_type": "code",
   "execution_count": 8,
   "id": "68ca810b-68ff-49c8-b6e8-f34708932ab5",
   "metadata": {},
   "outputs": [
    {
     "data": {
      "text/html": [
       "<div>\n",
       "<style scoped>\n",
       "    .dataframe tbody tr th:only-of-type {\n",
       "        vertical-align: middle;\n",
       "    }\n",
       "\n",
       "    .dataframe tbody tr th {\n",
       "        vertical-align: top;\n",
       "    }\n",
       "\n",
       "    .dataframe thead th {\n",
       "        text-align: right;\n",
       "    }\n",
       "</style>\n",
       "<table border=\"1\" class=\"dataframe\">\n",
       "  <thead>\n",
       "    <tr style=\"text-align: right;\">\n",
       "      <th></th>\n",
       "      <th>BDO</th>\n",
       "      <th>EW</th>\n",
       "      <th>MBT</th>\n",
       "      <th>PNB</th>\n",
       "      <th>SECB</th>\n",
       "      <th>UBP</th>\n",
       "    </tr>\n",
       "    <tr>\n",
       "      <th>Date</th>\n",
       "      <th></th>\n",
       "      <th></th>\n",
       "      <th></th>\n",
       "      <th></th>\n",
       "      <th></th>\n",
       "      <th></th>\n",
       "    </tr>\n",
       "  </thead>\n",
       "  <tbody>\n",
       "    <tr>\n",
       "      <th>43745</th>\n",
       "      <td>-0.024693</td>\n",
       "      <td>-0.010204</td>\n",
       "      <td>0.000000</td>\n",
       "      <td>0.011429</td>\n",
       "      <td>-0.004558</td>\n",
       "      <td>0.000846</td>\n",
       "    </tr>\n",
       "    <tr>\n",
       "      <th>43746</th>\n",
       "      <td>0.021202</td>\n",
       "      <td>0.001708</td>\n",
       "      <td>-0.010347</td>\n",
       "      <td>-0.021827</td>\n",
       "      <td>-0.012258</td>\n",
       "      <td>-0.000846</td>\n",
       "    </tr>\n",
       "    <tr>\n",
       "      <th>43747</th>\n",
       "      <td>0.002793</td>\n",
       "      <td>-0.008569</td>\n",
       "      <td>-0.019505</td>\n",
       "      <td>-0.002326</td>\n",
       "      <td>-0.018673</td>\n",
       "      <td>-0.000847</td>\n",
       "    </tr>\n",
       "    <tr>\n",
       "      <th>43748</th>\n",
       "      <td>0.011096</td>\n",
       "      <td>0.013675</td>\n",
       "      <td>0.026907</td>\n",
       "      <td>0.012724</td>\n",
       "      <td>0.041031</td>\n",
       "      <td>0.000000</td>\n",
       "    </tr>\n",
       "    <tr>\n",
       "      <th>43749</th>\n",
       "      <td>0.013699</td>\n",
       "      <td>0.021831</td>\n",
       "      <td>0.002946</td>\n",
       "      <td>-0.015055</td>\n",
       "      <td>-0.005038</td>\n",
       "      <td>0.000000</td>\n",
       "    </tr>\n",
       "  </tbody>\n",
       "</table>\n",
       "</div>"
      ],
      "text/plain": [
       "            BDO        EW       MBT       PNB      SECB       UBP\n",
       "Date                                                             \n",
       "43745 -0.024693 -0.010204  0.000000  0.011429 -0.004558  0.000846\n",
       "43746  0.021202  0.001708 -0.010347 -0.021827 -0.012258 -0.000846\n",
       "43747  0.002793 -0.008569 -0.019505 -0.002326 -0.018673 -0.000847\n",
       "43748  0.011096  0.013675  0.026907  0.012724  0.041031  0.000000\n",
       "43749  0.013699  0.021831  0.002946 -0.015055 -0.005038  0.000000"
      ]
     },
     "execution_count": 8,
     "metadata": {},
     "output_type": "execute_result"
    }
   ],
   "source": [
    "log_returns = np.log(df/df.shift(1))\n",
    "log_returns = log_returns.dropna()\n",
    "log_returns.head()"
   ]
  },
  {
   "cell_type": "markdown",
   "id": "96c055c3-e347-4f4d-a62f-5acface6507f",
   "metadata": {},
   "source": [
    "## Setting up the functions to be used later"
   ]
  },
  {
   "cell_type": "code",
   "execution_count": 75,
   "id": "a49de209-10c6-42f0-8667-eb3481f5aa28",
   "metadata": {},
   "outputs": [],
   "source": [
    "# Create a function to calculate expected_returns using historical data\n",
    "def expected_returns(weights, log_returns):\n",
    "    return np.sum(log_returns.mean() * weights)\n",
    "\n",
    "# Create a function to calculate standard deviation\n",
    "def standard_deviation(weights, cov_matrix):\n",
    "    variance = weights.T @ cov_matrix @ weights\n",
    "    return np.sqrt(variance)"
   ]
  },
  {
   "cell_type": "markdown",
   "id": "4790109c-2745-4240-ac1e-46e444ca7bc4",
   "metadata": {},
   "source": [
    "## Creating a covariance matrix"
   ]
  },
  {
   "cell_type": "code",
   "execution_count": 77,
   "id": "06ec05a9-ce23-4c09-8191-20b34ee8c242",
   "metadata": {},
   "outputs": [
    {
     "data": {
      "text/html": [
       "<div>\n",
       "<style scoped>\n",
       "    .dataframe tbody tr th:only-of-type {\n",
       "        vertical-align: middle;\n",
       "    }\n",
       "\n",
       "    .dataframe tbody tr th {\n",
       "        vertical-align: top;\n",
       "    }\n",
       "\n",
       "    .dataframe thead th {\n",
       "        text-align: right;\n",
       "    }\n",
       "</style>\n",
       "<table border=\"1\" class=\"dataframe\">\n",
       "  <thead>\n",
       "    <tr style=\"text-align: right;\">\n",
       "      <th></th>\n",
       "      <th>BDO</th>\n",
       "      <th>EW</th>\n",
       "      <th>MBT</th>\n",
       "      <th>PNB</th>\n",
       "      <th>SECB</th>\n",
       "      <th>UBP</th>\n",
       "    </tr>\n",
       "  </thead>\n",
       "  <tbody>\n",
       "    <tr>\n",
       "      <th>BDO</th>\n",
       "      <td>0.000545</td>\n",
       "      <td>0.000150</td>\n",
       "      <td>0.000203</td>\n",
       "      <td>0.000124</td>\n",
       "      <td>0.000180</td>\n",
       "      <td>0.000052</td>\n",
       "    </tr>\n",
       "    <tr>\n",
       "      <th>EW</th>\n",
       "      <td>0.000150</td>\n",
       "      <td>0.000288</td>\n",
       "      <td>0.000129</td>\n",
       "      <td>0.000103</td>\n",
       "      <td>0.000143</td>\n",
       "      <td>0.000028</td>\n",
       "    </tr>\n",
       "    <tr>\n",
       "      <th>MBT</th>\n",
       "      <td>0.000203</td>\n",
       "      <td>0.000129</td>\n",
       "      <td>0.000413</td>\n",
       "      <td>0.000096</td>\n",
       "      <td>0.000158</td>\n",
       "      <td>0.000044</td>\n",
       "    </tr>\n",
       "    <tr>\n",
       "      <th>PNB</th>\n",
       "      <td>0.000124</td>\n",
       "      <td>0.000103</td>\n",
       "      <td>0.000096</td>\n",
       "      <td>0.000357</td>\n",
       "      <td>0.000099</td>\n",
       "      <td>0.000026</td>\n",
       "    </tr>\n",
       "    <tr>\n",
       "      <th>SECB</th>\n",
       "      <td>0.000180</td>\n",
       "      <td>0.000143</td>\n",
       "      <td>0.000158</td>\n",
       "      <td>0.000099</td>\n",
       "      <td>0.000414</td>\n",
       "      <td>0.000056</td>\n",
       "    </tr>\n",
       "    <tr>\n",
       "      <th>UBP</th>\n",
       "      <td>0.000052</td>\n",
       "      <td>0.000028</td>\n",
       "      <td>0.000044</td>\n",
       "      <td>0.000026</td>\n",
       "      <td>0.000056</td>\n",
       "      <td>0.000381</td>\n",
       "    </tr>\n",
       "  </tbody>\n",
       "</table>\n",
       "</div>"
      ],
      "text/plain": [
       "           BDO        EW       MBT       PNB      SECB       UBP\n",
       "BDO   0.000545  0.000150  0.000203  0.000124  0.000180  0.000052\n",
       "EW    0.000150  0.000288  0.000129  0.000103  0.000143  0.000028\n",
       "MBT   0.000203  0.000129  0.000413  0.000096  0.000158  0.000044\n",
       "PNB   0.000124  0.000103  0.000096  0.000357  0.000099  0.000026\n",
       "SECB  0.000180  0.000143  0.000158  0.000099  0.000414  0.000056\n",
       "UBP   0.000052  0.000028  0.000044  0.000026  0.000056  0.000381"
      ]
     },
     "execution_count": 77,
     "metadata": {},
     "output_type": "execute_result"
    }
   ],
   "source": [
    "cov_matrix = log_returns.cov()\n",
    "cov_matrix"
   ]
  },
  {
   "cell_type": "markdown",
   "id": "cc7278b4-e9e6-4892-9114-3e2337215779",
   "metadata": {},
   "source": [
    "## Setting up the weights and using the functions we made earlier"
   ]
  },
  {
   "cell_type": "code",
   "execution_count": 79,
   "id": "55e749fb-12ec-4ad7-8c21-275664eab211",
   "metadata": {},
   "outputs": [],
   "source": [
    "# Creating an equally weighted portfolio\n",
    "\n",
    "stocks = df.columns\n",
    "portfolio_value = 1000000\n",
    "weights = np.array([1/len(stocks)]*len(stocks))\n",
    "\n",
    "# Using the functions\n",
    "portfolio_expected_return = expected_returns(weights, log_returns)\n",
    "portfolio_std_deviation = standard_deviation(weights, cov_matrix)"
   ]
  },
  {
   "cell_type": "markdown",
   "id": "d8424c36-d993-4a4d-90a4-c131e6388a89",
   "metadata": {},
   "source": [
    "## Create a function that generates a random Z-score based on a normal distribution"
   ]
  },
  {
   "cell_type": "code",
   "execution_count": 81,
   "id": "fe144b26-11c3-4047-aeeb-6167d65ab82c",
   "metadata": {},
   "outputs": [],
   "source": [
    "def rand_zscore():\n",
    "    return np.random.normal(0,1)"
   ]
  },
  {
   "cell_type": "markdown",
   "id": "fd053abb-df2e-4f4c-a367-11fb4d50d7b6",
   "metadata": {},
   "source": [
    "## Create a function to calculate scenario gain loss"
   ]
  },
  {
   "cell_type": "code",
   "execution_count": 103,
   "id": "82e2cd38-0171-4881-b80c-2feee7271769",
   "metadata": {},
   "outputs": [],
   "source": [
    "days = 5\n",
    "\n",
    "def scenario_gain_loss(portfolio_value, portfolio_std_deviation, z_score, days):\n",
    "    return portfolio_value * portfolio_expected_return * days + portfolio_value * portfolio_std_deviation * z_score * np.sqrt(days)"
   ]
  },
  {
   "cell_type": "markdown",
   "id": "8f42fde6-183a-433e-a6a5-f1a1f0342b0d",
   "metadata": {},
   "source": [
    "## It's Monte Carlo time"
   ]
  },
  {
   "cell_type": "code",
   "execution_count": 222,
   "id": "a38294cd-60b9-468f-ae18-41204928c6d3",
   "metadata": {},
   "outputs": [],
   "source": [
    "simulations = 10000\n",
    "scenarioReturn = []\n",
    "\n",
    "for x in range(simulations):\n",
    "    z_score = rand_zscore()\n",
    "    scenarioReturn.append(scenario_gain_loss(portfolio_value, portfolio_std_deviation, z_score, days))"
   ]
  },
  {
   "cell_type": "markdown",
   "id": "a5103835-e7d8-48e1-a8d1-8df7cc2a78f8",
   "metadata": {},
   "source": [
    "## Calculating our VaR"
   ]
  },
  {
   "cell_type": "code",
   "execution_count": 225,
   "id": "0566e464-e953-4de9-af6e-b59f46c922cc",
   "metadata": {},
   "outputs": [
    {
     "data": {
      "text/plain": [
       "46434.00982524852"
      ]
     },
     "execution_count": 225,
     "metadata": {},
     "output_type": "execute_result"
    }
   ],
   "source": [
    "confidence_interval = 0.95\n",
    "VaR = -np.percentile(scenarioReturn, 100*(1-confidence_interval))\n",
    "\n",
    "VaR"
   ]
  },
  {
   "cell_type": "markdown",
   "id": "71adb6ac-fbdd-497f-9270-6f4d40dd6aec",
   "metadata": {},
   "source": [
    "## Plotting our 10,000 simulations"
   ]
  },
  {
   "cell_type": "code",
   "execution_count": 216,
   "id": "dac9b99b-d179-4865-9240-97435f9405ab",
   "metadata": {},
   "outputs": [
    {
     "data": {
      "image/png": "[encoded data removed]",
      "text/plain": [
       "<Figure size 640x480 with 1 Axes>"
      ]
     },
     "metadata": {},
     "output_type": "display_data"
    }
   ],
   "source": [
    "plt.hist(scenarioReturn)\n",
    "plt.xlabel('Scenario Gain /Loss')\n",
    "plt.ylabel('Frequency')\n",
    "plt.title(f\"Distribution of Portfolio Gain/loss over {days} Days \")\n",
    "plt.axvline(-VaR, color='r', linestyle='dashed', linewidth = 2, label= f'VaR at {confidence_interval:.0%} confidence level') \n",
    "plt.show()"
   ]
  },
  {
   "cell_type": "markdown",
   "id": "174c2f21-3c72-4ec5-8c42-b7b0b97c3898",
   "metadata": {},
   "source": [
    "## Conclusion"
   ]
  },
  {
   "cell_type": "markdown",
   "id": "6510eb6d-f0ec-41d1-8f35-54f3747f0360",
   "metadata": {},
   "source": [
    "We managed to calculate our VaR using Monte Carlo method. The results show that in 5 days with 95% confidence interval, the maximum possible loss is ₱46,000-₱47,500. We can then use this information as a decision factor when creating portfolios. "
   ]
  }
 ],
 "metadata": {
  "kernelspec": {
   "display_name": "Python 3 (ipykernel)",
   "language": "python",
   "name": "python3"
  },
  "language_info": {
   "codemirror_mode": {
    "name": "ipython",
    "version": 3
   },
   "file_extension": ".py",
   "mimetype": "text/x-python",
   "name": "python",
   "nbconvert_exporter": "python",
   "pygments_lexer": "ipython3",
   "version": "3.12.4"
  }
 },
 "nbformat": 4,
 "nbformat_minor": 5
}
